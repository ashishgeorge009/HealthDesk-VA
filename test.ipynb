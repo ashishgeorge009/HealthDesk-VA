{
 "cells": [
  {
   "cell_type": "code",
   "execution_count": 1,
   "metadata": {},
   "outputs": [],
   "source": [
    "import os\n",
    "import json\n",
    "from google.cloud import dialogflow\n",
    "from google.api_core.exceptions import InvalidArgument\n",
    "\n",
    "os.environ[\"GOOGLE_APPLICATION_CREDENTIALS\"] = 'private_key.json'\n",
    "\n",
    "DIALOGFLOW_PROJECT_ID = 'receptionist-djjv'\n",
    "DIALOGFLOW_LANGUAGE_CODE = 'en'\n",
    "SESSION_ID = 'me'"
   ]
  },
  {
   "cell_type": "code",
   "execution_count": 3,
   "metadata": {},
   "outputs": [],
   "source": [
    "text_to_be_analyzed = input(\"User: \")"
   ]
  },
  {
   "cell_type": "code",
   "execution_count": 4,
   "metadata": {},
   "outputs": [],
   "source": [
    "session_client = dialogflow.SessionsClient()\n",
    "session = session_client.session_path(DIALOGFLOW_PROJECT_ID, SESSION_ID)\n",
    "text_input = dialogflow.TextInput(text=text_to_be_analyzed, language_code=DIALOGFLOW_LANGUAGE_CODE)\n",
    "query_input = dialogflow.QueryInput(text=text_input)"
   ]
  },
  {
   "cell_type": "code",
   "execution_count": null,
   "metadata": {},
   "outputs": [],
   "source": [
    "try:\n",
    "    response = session_client.detect_intent(session=session, query_input=query_input)\n",
    "except InvalidArgument:\n",
    "    raise"
   ]
  },
  {
   "cell_type": "code",
   "execution_count": 2,
   "metadata": {},
   "outputs": [],
   "source": [
    "from dialogflow import get_response"
   ]
  },
  {
   "cell_type": "code",
   "execution_count": 3,
   "metadata": {},
   "outputs": [],
   "source": [
    "def bot_speak(bot_text):\n",
    "    print(\"Bot text: \",bot_text)"
   ]
  },
  {
   "cell_type": "code",
   "execution_count": 2,
   "metadata": {},
   "outputs": [],
   "source": [
    "import os\n",
    "import os.path\n",
    "import time\n",
    "import datetime\n",
    "from urllib import response\n",
    "# import pyttsx3\n",
    "import speech_recognition as sr\n",
    "import pytz\n",
    "from dialogflow import get_response\n",
    "from utils import extract_details\n",
    "from display_data import show_appointment_details, list_doctors\n",
    "from email_test import send_email"
   ]
  },
  {
   "cell_type": "code",
   "execution_count": 3,
   "metadata": {},
   "outputs": [],
   "source": [
    "temp = \"\""
   ]
  },
  {
   "cell_type": "code",
   "execution_count": 4,
   "metadata": {},
   "outputs": [
    {
     "name": "stdout",
     "output_type": "stream",
     "text": [
      "What speciality of doctor are you looking for?\n",
      "Here's a list of ENT doctors. Please state the name of one of the doctors from the list\n",
      "And, when would you like the appointment to be?\n",
      "Good news, that slot is open. Can I have your name please?\n",
      "And, can I get your email address?\n",
      "Thank you Nihal . Here are the details of the appointment. Is everything alright?|Nihal,nihal.antony@gmail.com,michael scott,2022-03-13T12:00:00-04:00,2022-03-13T12:00:00-04:00,ENT\n",
      "What would you like to change?\n",
      "Sure thing, here are the new details. Is everything alright?|Nihal,nihal.antony@gmail.com,michael scott,2022-03-13T12:00:00-04:00,17:00:00,$AppointmentType\n"
     ]
    },
    {
     "ename": "KeyboardInterrupt",
     "evalue": "Interrupted by user",
     "output_type": "error",
     "traceback": [
      "\u001b[0;31m---------------------------------------------------------------------------\u001b[0m",
      "\u001b[0;31mKeyboardInterrupt\u001b[0m                         Traceback (most recent call last)",
      "\u001b[1;32m/Users/nihal/Desktop/Virtual Assistant/Google Receptionist/test.ipynb Cell 9'\u001b[0m in \u001b[0;36m<module>\u001b[0;34m\u001b[0m\n\u001b[1;32m      <a href='vscode-notebook-cell:/Users/nihal/Desktop/Virtual%20Assistant/Google%20Receptionist/test.ipynb#ch0000023?line=1'>2</a>\u001b[0m user_text \u001b[39m=\u001b[39m \u001b[39m\"\u001b[39m\u001b[39mSomething\u001b[39m\u001b[39m\"\u001b[39m\n\u001b[1;32m      <a href='vscode-notebook-cell:/Users/nihal/Desktop/Virtual%20Assistant/Google%20Receptionist/test.ipynb#ch0000023?line=2'>3</a>\u001b[0m \u001b[39mwhile\u001b[39;00m user_text\u001b[39m!=\u001b[39m\u001b[39m\"\u001b[39m\u001b[39mend\u001b[39m\u001b[39m\"\u001b[39m:\n\u001b[0;32m----> <a href='vscode-notebook-cell:/Users/nihal/Desktop/Virtual%20Assistant/Google%20Receptionist/test.ipynb#ch0000023?line=3'>4</a>\u001b[0m     user_text \u001b[39m=\u001b[39m \u001b[39minput\u001b[39;49m(\u001b[39m\"\u001b[39;49m\u001b[39mUser: \u001b[39;49m\u001b[39m\"\u001b[39;49m) \u001b[39m# Input from the user\u001b[39;00m\n\u001b[1;32m      <a href='vscode-notebook-cell:/Users/nihal/Desktop/Virtual%20Assistant/Google%20Receptionist/test.ipynb#ch0000023?line=4'>5</a>\u001b[0m     \u001b[39mif\u001b[39;00m user_text\u001b[39m==\u001b[39m\u001b[39m\"\u001b[39m\u001b[39mend\u001b[39m\u001b[39m\"\u001b[39m:\n\u001b[1;32m      <a href='vscode-notebook-cell:/Users/nihal/Desktop/Virtual%20Assistant/Google%20Receptionist/test.ipynb#ch0000023?line=5'>6</a>\u001b[0m         \u001b[39mbreak\u001b[39;00m\n",
      "File \u001b[0;32m~/miniforge3/envs/apple_tensorflow/lib/python3.8/site-packages/ipykernel/kernelbase.py:1044\u001b[0m, in \u001b[0;36mKernel.raw_input\u001b[0;34m(self, prompt)\u001b[0m\n\u001b[1;32m   <a href='file:///Users/nihal/miniforge3/envs/apple_tensorflow/lib/python3.8/site-packages/ipykernel/kernelbase.py?line=1039'>1040</a>\u001b[0m \u001b[39mif\u001b[39;00m \u001b[39mnot\u001b[39;00m \u001b[39mself\u001b[39m\u001b[39m.\u001b[39m_allow_stdin:\n\u001b[1;32m   <a href='file:///Users/nihal/miniforge3/envs/apple_tensorflow/lib/python3.8/site-packages/ipykernel/kernelbase.py?line=1040'>1041</a>\u001b[0m     \u001b[39mraise\u001b[39;00m StdinNotImplementedError(\n\u001b[1;32m   <a href='file:///Users/nihal/miniforge3/envs/apple_tensorflow/lib/python3.8/site-packages/ipykernel/kernelbase.py?line=1041'>1042</a>\u001b[0m         \u001b[39m\"\u001b[39m\u001b[39mraw_input was called, but this frontend does not support input requests.\u001b[39m\u001b[39m\"\u001b[39m\n\u001b[1;32m   <a href='file:///Users/nihal/miniforge3/envs/apple_tensorflow/lib/python3.8/site-packages/ipykernel/kernelbase.py?line=1042'>1043</a>\u001b[0m     )\n\u001b[0;32m-> <a href='file:///Users/nihal/miniforge3/envs/apple_tensorflow/lib/python3.8/site-packages/ipykernel/kernelbase.py?line=1043'>1044</a>\u001b[0m \u001b[39mreturn\u001b[39;00m \u001b[39mself\u001b[39;49m\u001b[39m.\u001b[39;49m_input_request(\n\u001b[1;32m   <a href='file:///Users/nihal/miniforge3/envs/apple_tensorflow/lib/python3.8/site-packages/ipykernel/kernelbase.py?line=1044'>1045</a>\u001b[0m     \u001b[39mstr\u001b[39;49m(prompt),\n\u001b[1;32m   <a href='file:///Users/nihal/miniforge3/envs/apple_tensorflow/lib/python3.8/site-packages/ipykernel/kernelbase.py?line=1045'>1046</a>\u001b[0m     \u001b[39mself\u001b[39;49m\u001b[39m.\u001b[39;49m_parent_ident[\u001b[39m\"\u001b[39;49m\u001b[39mshell\u001b[39;49m\u001b[39m\"\u001b[39;49m],\n\u001b[1;32m   <a href='file:///Users/nihal/miniforge3/envs/apple_tensorflow/lib/python3.8/site-packages/ipykernel/kernelbase.py?line=1046'>1047</a>\u001b[0m     \u001b[39mself\u001b[39;49m\u001b[39m.\u001b[39;49mget_parent(\u001b[39m\"\u001b[39;49m\u001b[39mshell\u001b[39;49m\u001b[39m\"\u001b[39;49m),\n\u001b[1;32m   <a href='file:///Users/nihal/miniforge3/envs/apple_tensorflow/lib/python3.8/site-packages/ipykernel/kernelbase.py?line=1047'>1048</a>\u001b[0m     password\u001b[39m=\u001b[39;49m\u001b[39mFalse\u001b[39;49;00m,\n\u001b[1;32m   <a href='file:///Users/nihal/miniforge3/envs/apple_tensorflow/lib/python3.8/site-packages/ipykernel/kernelbase.py?line=1048'>1049</a>\u001b[0m )\n",
      "File \u001b[0;32m~/miniforge3/envs/apple_tensorflow/lib/python3.8/site-packages/ipykernel/kernelbase.py:1089\u001b[0m, in \u001b[0;36mKernel._input_request\u001b[0;34m(self, prompt, ident, parent, password)\u001b[0m\n\u001b[1;32m   <a href='file:///Users/nihal/miniforge3/envs/apple_tensorflow/lib/python3.8/site-packages/ipykernel/kernelbase.py?line=1085'>1086</a>\u001b[0m             \u001b[39mbreak\u001b[39;00m\n\u001b[1;32m   <a href='file:///Users/nihal/miniforge3/envs/apple_tensorflow/lib/python3.8/site-packages/ipykernel/kernelbase.py?line=1086'>1087</a>\u001b[0m \u001b[39mexcept\u001b[39;00m \u001b[39mKeyboardInterrupt\u001b[39;00m:\n\u001b[1;32m   <a href='file:///Users/nihal/miniforge3/envs/apple_tensorflow/lib/python3.8/site-packages/ipykernel/kernelbase.py?line=1087'>1088</a>\u001b[0m     \u001b[39m# re-raise KeyboardInterrupt, to truncate traceback\u001b[39;00m\n\u001b[0;32m-> <a href='file:///Users/nihal/miniforge3/envs/apple_tensorflow/lib/python3.8/site-packages/ipykernel/kernelbase.py?line=1088'>1089</a>\u001b[0m     \u001b[39mraise\u001b[39;00m \u001b[39mKeyboardInterrupt\u001b[39;00m(\u001b[39m\"\u001b[39m\u001b[39mInterrupted by user\u001b[39m\u001b[39m\"\u001b[39m) \u001b[39mfrom\u001b[39;00m \u001b[39mNone\u001b[39m\n\u001b[1;32m   <a href='file:///Users/nihal/miniforge3/envs/apple_tensorflow/lib/python3.8/site-packages/ipykernel/kernelbase.py?line=1089'>1090</a>\u001b[0m \u001b[39mexcept\u001b[39;00m \u001b[39mException\u001b[39;00m:\n\u001b[1;32m   <a href='file:///Users/nihal/miniforge3/envs/apple_tensorflow/lib/python3.8/site-packages/ipykernel/kernelbase.py?line=1090'>1091</a>\u001b[0m     \u001b[39mself\u001b[39m\u001b[39m.\u001b[39mlog\u001b[39m.\u001b[39mwarning(\u001b[39m\"\u001b[39m\u001b[39mInvalid Message:\u001b[39m\u001b[39m\"\u001b[39m, exc_info\u001b[39m=\u001b[39m\u001b[39mTrue\u001b[39;00m)\n",
      "\u001b[0;31mKeyboardInterrupt\u001b[0m: Interrupted by user"
     ]
    }
   ],
   "source": [
    "bot_text = \"Something\"\n",
    "user_text = \"Something\"\n",
    "while user_text!=\"end\":\n",
    "    user_text = input(\"User: \") # Input from the user\n",
    "    if user_text==\"end\":\n",
    "        break\n",
    "    response = get_response(user_text)\n",
    "    temp_text = response.query_result.fulfillment_text\n",
    "    temp = response.query_result.fulfillment_text\n",
    "    print(temp)"
   ]
  },
  {
   "cell_type": "markdown",
   "metadata": {},
   "source": [
    "# Calendar Functionality Test"
   ]
  },
  {
   "cell_type": "code",
   "execution_count": 6,
   "metadata": {},
   "outputs": [],
   "source": [
    "details = {'name': ' Nihal',\n",
    " 'email': 'nihal.antony@gmail.com',\n",
    " 'doctor': 'Steven philip',\n",
    " 'date': '2022-03-25T12:00:00-04:00',\n",
    " 'time': '16:30:00',\n",
    " 'appointment': '$AppointmentType'}"
   ]
  },
  {
   "cell_type": "code",
   "execution_count": 7,
   "metadata": {},
   "outputs": [
    {
     "data": {
      "text/plain": [
       "{'name': ' Nihal',\n",
       " 'email': 'nihal.antony@gmail.com',\n",
       " 'doctor': 'Steven philip',\n",
       " 'date': '2022-03-25T12:00:00-04:00',\n",
       " 'time': '16:30:00',\n",
       " 'appointment': '$AppointmentType'}"
      ]
     },
     "execution_count": 7,
     "metadata": {},
     "output_type": "execute_result"
    }
   ],
   "source": [
    "details"
   ]
  },
  {
   "cell_type": "code",
   "execution_count": 8,
   "metadata": {},
   "outputs": [
    {
     "name": "stdout",
     "output_type": "stream",
     "text": [
      "Please visit this URL to authorize this application: https://accounts.google.com/o/oauth2/auth?response_type=code&client_id=101781712841-eq913823ocgen990otldlj9grq988eb3.apps.googleusercontent.com&redirect_uri=http%3A%2F%2Flocalhost%3A49644%2F&scope=https%3A%2F%2Fwww.googleapis.com%2Fauth%2Fcalendar&state=jWfs87dgtCtQG8K8ZFBWFHaxLFZD5T&access_type=offline\n"
     ]
    }
   ],
   "source": [
    "from Handle_calendar import create_event\n",
    "temp = create_event(details)"
   ]
  },
  {
   "cell_type": "code",
   "execution_count": 20,
   "metadata": {},
   "outputs": [],
   "source": [
    "temp"
   ]
  },
  {
   "cell_type": "markdown",
   "metadata": {},
   "source": [
    "## Location Functionality Test"
   ]
  },
  {
   "cell_type": "code",
   "execution_count": 1,
   "metadata": {},
   "outputs": [],
   "source": [
    "import googlemaps\n",
    "import pandas as pd\n",
    "import time\n",
    "\n",
    "def miles_to_meter(miles):\n",
    "    try:\n",
    "        return miles * 1609.344\n",
    "    except:\n",
    "        return 0\n",
    "\n",
    "API_KEY = open('API_KEY.txt','r').read()\n",
    "map_client = googlemaps.Client(API_KEY)\n",
    "\n",
    "location = (45.40246603818195, -75.6649640740319)\n",
    "search_string = 'pharmacy'\n",
    "distance = miles_to_meter(15)\n",
    "business_list = []"
   ]
  },
  {
   "cell_type": "code",
   "execution_count": 2,
   "metadata": {},
   "outputs": [],
   "source": [
    "response = map_client.places_nearby(\n",
    "    location=location,\n",
    "    keyword=search_string,\n",
    "    name='pharmacy',\n",
    "    radius=distance\n",
    "    )"
   ]
  },
  {
   "cell_type": "code",
   "execution_count": 3,
   "metadata": {},
   "outputs": [],
   "source": [
    "business_list.extend(response.get('results'))"
   ]
  },
  {
   "cell_type": "code",
   "execution_count": 4,
   "metadata": {},
   "outputs": [],
   "source": [
    "df = pd.DataFrame(business_list)\n",
    "df['url'] = 'https://www.google.com/maps/place/?q=place_id:' + df['place_id']"
   ]
  },
  {
   "cell_type": "code",
   "execution_count": 13,
   "metadata": {},
   "outputs": [
    {
     "data": {
      "text/html": [
       "<div>\n",
       "<style scoped>\n",
       "    .dataframe tbody tr th:only-of-type {\n",
       "        vertical-align: middle;\n",
       "    }\n",
       "\n",
       "    .dataframe tbody tr th {\n",
       "        vertical-align: top;\n",
       "    }\n",
       "\n",
       "    .dataframe thead th {\n",
       "        text-align: right;\n",
       "    }\n",
       "</style>\n",
       "<table border=\"1\" class=\"dataframe\">\n",
       "  <thead>\n",
       "    <tr style=\"text-align: right;\">\n",
       "      <th></th>\n",
       "      <th>name</th>\n",
       "      <th>opening_hours</th>\n",
       "      <th>rating</th>\n",
       "      <th>url</th>\n",
       "    </tr>\n",
       "  </thead>\n",
       "  <tbody>\n",
       "    <tr>\n",
       "      <th>0</th>\n",
       "      <td>I.D.A. - Bell Pharmacy</td>\n",
       "      <td>{'open_now': True}</td>\n",
       "      <td>4.6</td>\n",
       "      <td>https://www.google.com/maps/place/?q=place_id:...</td>\n",
       "    </tr>\n",
       "    <tr>\n",
       "      <th>1</th>\n",
       "      <td>Remedy'sRx - Trainyards Pharmacy</td>\n",
       "      <td>{'open_now': False}</td>\n",
       "      <td>3.7</td>\n",
       "      <td>https://www.google.com/maps/place/?q=place_id:...</td>\n",
       "    </tr>\n",
       "    <tr>\n",
       "      <th>2</th>\n",
       "      <td>Shoppers Drug Mart</td>\n",
       "      <td>{'open_now': True}</td>\n",
       "      <td>2.5</td>\n",
       "      <td>https://www.google.com/maps/place/?q=place_id:...</td>\n",
       "    </tr>\n",
       "    <tr>\n",
       "      <th>3</th>\n",
       "      <td>Pharmasave Cyril Pharmacy</td>\n",
       "      <td>{'open_now': True}</td>\n",
       "      <td>5.0</td>\n",
       "      <td>https://www.google.com/maps/place/?q=place_id:...</td>\n",
       "    </tr>\n",
       "    <tr>\n",
       "      <th>4</th>\n",
       "      <td>Shas Pharmacy</td>\n",
       "      <td>{'open_now': True}</td>\n",
       "      <td>4.3</td>\n",
       "      <td>https://www.google.com/maps/place/?q=place_id:...</td>\n",
       "    </tr>\n",
       "  </tbody>\n",
       "</table>\n",
       "</div>"
      ],
      "text/plain": [
       "                               name        opening_hours  rating  \\\n",
       "0            I.D.A. - Bell Pharmacy   {'open_now': True}     4.6   \n",
       "1  Remedy'sRx - Trainyards Pharmacy  {'open_now': False}     3.7   \n",
       "2                Shoppers Drug Mart   {'open_now': True}     2.5   \n",
       "3         Pharmasave Cyril Pharmacy   {'open_now': True}     5.0   \n",
       "4                     Shas Pharmacy   {'open_now': True}     4.3   \n",
       "\n",
       "                                                 url  \n",
       "0  https://www.google.com/maps/place/?q=place_id:...  \n",
       "1  https://www.google.com/maps/place/?q=place_id:...  \n",
       "2  https://www.google.com/maps/place/?q=place_id:...  \n",
       "3  https://www.google.com/maps/place/?q=place_id:...  \n",
       "4  https://www.google.com/maps/place/?q=place_id:...  "
      ]
     },
     "execution_count": 13,
     "metadata": {},
     "output_type": "execute_result"
    }
   ],
   "source": [
    "df[['name','opening_hours','rating','url']].head()"
   ]
  },
  {
   "cell_type": "code",
   "execution_count": 7,
   "metadata": {},
   "outputs": [
    {
     "data": {
      "text/plain": [
       "(20, 17)"
      ]
     },
     "execution_count": 7,
     "metadata": {},
     "output_type": "execute_result"
    }
   ],
   "source": [
    "df.shape"
   ]
  },
  {
   "cell_type": "code",
   "execution_count": 24,
   "metadata": {},
   "outputs": [
    {
     "data": {
      "text/plain": [
       "{'open_now': True}"
      ]
     },
     "execution_count": 24,
     "metadata": {},
     "output_type": "execute_result"
    }
   ],
   "source": [
    "df.iloc[0]['opening_hours']"
   ]
  },
  {
   "cell_type": "code",
   "execution_count": 16,
   "metadata": {},
   "outputs": [
    {
     "data": {
      "text/plain": [
       "{'open_now': True}"
      ]
     },
     "execution_count": 16,
     "metadata": {},
     "output_type": "execute_result"
    }
   ],
   "source": [
    "dic"
   ]
  },
  {
   "cell_type": "code",
   "execution_count": 17,
   "metadata": {},
   "outputs": [
    {
     "data": {
      "text/plain": [
       "True"
      ]
     },
     "execution_count": 17,
     "metadata": {},
     "output_type": "execute_result"
    }
   ],
   "source": [
    "dic['open_now']"
   ]
  },
  {
   "cell_type": "code",
   "execution_count": 20,
   "metadata": {},
   "outputs": [],
   "source": [
    "def opening(x):\n",
    "    dic = x\n",
    "    x = \"Open\" if dic['open_now'] else \"Closed\""
   ]
  },
  {
   "cell_type": "code",
   "execution_count": null,
   "metadata": {},
   "outputs": [],
   "source": [
    "for i in range(len(df)):\n",
    "    dic = df.iloc[i]['opening_hours']\n",
    "    df.iloc[i]['opening'] = \"Open\" if dic['open_now'] else \"Closed\""
   ]
  },
  {
   "cell_type": "code",
   "execution_count": 40,
   "metadata": {},
   "outputs": [],
   "source": [
    "df['open_now'] = df['opening_hours'].apply(pd.Series)['open_now']"
   ]
  },
  {
   "cell_type": "code",
   "execution_count": 51,
   "metadata": {},
   "outputs": [],
   "source": [
    "temp = df[['name','open_now','rating','url']]"
   ]
  },
  {
   "cell_type": "code",
   "execution_count": 52,
   "metadata": {},
   "outputs": [
    {
     "data": {
      "text/html": [
       "<div>\n",
       "<style scoped>\n",
       "    .dataframe tbody tr th:only-of-type {\n",
       "        vertical-align: middle;\n",
       "    }\n",
       "\n",
       "    .dataframe tbody tr th {\n",
       "        vertical-align: top;\n",
       "    }\n",
       "\n",
       "    .dataframe thead th {\n",
       "        text-align: right;\n",
       "    }\n",
       "</style>\n",
       "<table border=\"1\" class=\"dataframe\">\n",
       "  <thead>\n",
       "    <tr style=\"text-align: right;\">\n",
       "      <th></th>\n",
       "      <th>name</th>\n",
       "      <th>open_now</th>\n",
       "      <th>rating</th>\n",
       "      <th>url</th>\n",
       "    </tr>\n",
       "  </thead>\n",
       "  <tbody>\n",
       "    <tr>\n",
       "      <th>0</th>\n",
       "      <td>I.D.A. - Bell Pharmacy</td>\n",
       "      <td>True</td>\n",
       "      <td>4.6</td>\n",
       "      <td>https://www.google.com/maps/place/?q=place_id:...</td>\n",
       "    </tr>\n",
       "    <tr>\n",
       "      <th>1</th>\n",
       "      <td>Remedy'sRx - Trainyards Pharmacy</td>\n",
       "      <td>False</td>\n",
       "      <td>3.7</td>\n",
       "      <td>https://www.google.com/maps/place/?q=place_id:...</td>\n",
       "    </tr>\n",
       "    <tr>\n",
       "      <th>2</th>\n",
       "      <td>Shoppers Drug Mart</td>\n",
       "      <td>True</td>\n",
       "      <td>2.5</td>\n",
       "      <td>https://www.google.com/maps/place/?q=place_id:...</td>\n",
       "    </tr>\n",
       "    <tr>\n",
       "      <th>3</th>\n",
       "      <td>Pharmasave Cyril Pharmacy</td>\n",
       "      <td>True</td>\n",
       "      <td>5.0</td>\n",
       "      <td>https://www.google.com/maps/place/?q=place_id:...</td>\n",
       "    </tr>\n",
       "    <tr>\n",
       "      <th>4</th>\n",
       "      <td>Shas Pharmacy</td>\n",
       "      <td>True</td>\n",
       "      <td>4.3</td>\n",
       "      <td>https://www.google.com/maps/place/?q=place_id:...</td>\n",
       "    </tr>\n",
       "  </tbody>\n",
       "</table>\n",
       "</div>"
      ],
      "text/plain": [
       "                               name open_now  rating  \\\n",
       "0            I.D.A. - Bell Pharmacy     True     4.6   \n",
       "1  Remedy'sRx - Trainyards Pharmacy    False     3.7   \n",
       "2                Shoppers Drug Mart     True     2.5   \n",
       "3         Pharmasave Cyril Pharmacy     True     5.0   \n",
       "4                     Shas Pharmacy     True     4.3   \n",
       "\n",
       "                                                 url  \n",
       "0  https://www.google.com/maps/place/?q=place_id:...  \n",
       "1  https://www.google.com/maps/place/?q=place_id:...  \n",
       "2  https://www.google.com/maps/place/?q=place_id:...  \n",
       "3  https://www.google.com/maps/place/?q=place_id:...  \n",
       "4  https://www.google.com/maps/place/?q=place_id:...  "
      ]
     },
     "execution_count": 52,
     "metadata": {},
     "output_type": "execute_result"
    }
   ],
   "source": [
    "temp.head()"
   ]
  },
  {
   "cell_type": "code",
   "execution_count": 53,
   "metadata": {},
   "outputs": [],
   "source": [
    "temp.loc[temp['open_now']==True,['open_now']] = \"Open\"\n",
    "temp.loc[temp['open_now']==False,['open_now']] = \"Closed\""
   ]
  },
  {
   "cell_type": "code",
   "execution_count": 54,
   "metadata": {},
   "outputs": [
    {
     "data": {
      "text/html": [
       "<div>\n",
       "<style scoped>\n",
       "    .dataframe tbody tr th:only-of-type {\n",
       "        vertical-align: middle;\n",
       "    }\n",
       "\n",
       "    .dataframe tbody tr th {\n",
       "        vertical-align: top;\n",
       "    }\n",
       "\n",
       "    .dataframe thead th {\n",
       "        text-align: right;\n",
       "    }\n",
       "</style>\n",
       "<table border=\"1\" class=\"dataframe\">\n",
       "  <thead>\n",
       "    <tr style=\"text-align: right;\">\n",
       "      <th></th>\n",
       "      <th>name</th>\n",
       "      <th>open_now</th>\n",
       "      <th>rating</th>\n",
       "      <th>url</th>\n",
       "    </tr>\n",
       "  </thead>\n",
       "  <tbody>\n",
       "    <tr>\n",
       "      <th>0</th>\n",
       "      <td>I.D.A. - Bell Pharmacy</td>\n",
       "      <td>Open</td>\n",
       "      <td>4.6</td>\n",
       "      <td>https://www.google.com/maps/place/?q=place_id:...</td>\n",
       "    </tr>\n",
       "    <tr>\n",
       "      <th>1</th>\n",
       "      <td>Remedy'sRx - Trainyards Pharmacy</td>\n",
       "      <td>Closed</td>\n",
       "      <td>3.7</td>\n",
       "      <td>https://www.google.com/maps/place/?q=place_id:...</td>\n",
       "    </tr>\n",
       "    <tr>\n",
       "      <th>2</th>\n",
       "      <td>Shoppers Drug Mart</td>\n",
       "      <td>Open</td>\n",
       "      <td>2.5</td>\n",
       "      <td>https://www.google.com/maps/place/?q=place_id:...</td>\n",
       "    </tr>\n",
       "    <tr>\n",
       "      <th>3</th>\n",
       "      <td>Pharmasave Cyril Pharmacy</td>\n",
       "      <td>Open</td>\n",
       "      <td>5.0</td>\n",
       "      <td>https://www.google.com/maps/place/?q=place_id:...</td>\n",
       "    </tr>\n",
       "    <tr>\n",
       "      <th>4</th>\n",
       "      <td>Shas Pharmacy</td>\n",
       "      <td>Open</td>\n",
       "      <td>4.3</td>\n",
       "      <td>https://www.google.com/maps/place/?q=place_id:...</td>\n",
       "    </tr>\n",
       "  </tbody>\n",
       "</table>\n",
       "</div>"
      ],
      "text/plain": [
       "                               name open_now  rating  \\\n",
       "0            I.D.A. - Bell Pharmacy     Open     4.6   \n",
       "1  Remedy'sRx - Trainyards Pharmacy   Closed     3.7   \n",
       "2                Shoppers Drug Mart     Open     2.5   \n",
       "3         Pharmasave Cyril Pharmacy     Open     5.0   \n",
       "4                     Shas Pharmacy     Open     4.3   \n",
       "\n",
       "                                                 url  \n",
       "0  https://www.google.com/maps/place/?q=place_id:...  \n",
       "1  https://www.google.com/maps/place/?q=place_id:...  \n",
       "2  https://www.google.com/maps/place/?q=place_id:...  \n",
       "3  https://www.google.com/maps/place/?q=place_id:...  \n",
       "4  https://www.google.com/maps/place/?q=place_id:...  "
      ]
     },
     "execution_count": 54,
     "metadata": {},
     "output_type": "execute_result"
    }
   ],
   "source": [
    "temp.head()"
   ]
  },
  {
   "cell_type": "code",
   "execution_count": 61,
   "metadata": {},
   "outputs": [
    {
     "name": "stdout",
     "output_type": "stream",
     "text": [
      "Maurice Convenience Store, 1755, Frobisher Lane, Capital, (Old) Ottawa, Ottawa, Eastern Ontario, Ontario, K1G 3T7, Canada\n",
      "(45.4021688, -75.6651193)\n"
     ]
    }
   ],
   "source": [
    "from geopy.geocoders import Nominatim\n",
    "geolocator = Nominatim(user_agent=\"receptionist\")\n",
    "location = geolocator.geocode(\"1755 Frobisher Lane\")\n",
    "print(location.address)\n",
    "print((location.latitude, location.longitude))"
   ]
  },
  {
   "cell_type": "code",
   "execution_count": 62,
   "metadata": {},
   "outputs": [
    {
     "data": {
      "text/html": [
       "<div>\n",
       "<style scoped>\n",
       "    .dataframe tbody tr th:only-of-type {\n",
       "        vertical-align: middle;\n",
       "    }\n",
       "\n",
       "    .dataframe tbody tr th {\n",
       "        vertical-align: top;\n",
       "    }\n",
       "\n",
       "    .dataframe thead th {\n",
       "        text-align: right;\n",
       "    }\n",
       "</style>\n",
       "<table border=\"1\" class=\"dataframe\">\n",
       "  <thead>\n",
       "    <tr style=\"text-align: right;\">\n",
       "      <th></th>\n",
       "      <th>Name</th>\n",
       "      <th>open_now</th>\n",
       "      <th>Rating</th>\n",
       "      <th>url</th>\n",
       "    </tr>\n",
       "  </thead>\n",
       "  <tbody>\n",
       "    <tr>\n",
       "      <th>0</th>\n",
       "      <td>I.D.A. - Bell Pharmacy</td>\n",
       "      <td>Open</td>\n",
       "      <td>4.6</td>\n",
       "      <td>https://www.google.com/maps/place/?q=place_id:...</td>\n",
       "    </tr>\n",
       "    <tr>\n",
       "      <th>1</th>\n",
       "      <td>Remedy'sRx - Trainyards Pharmacy</td>\n",
       "      <td>Closed</td>\n",
       "      <td>3.7</td>\n",
       "      <td>https://www.google.com/maps/place/?q=place_id:...</td>\n",
       "    </tr>\n",
       "    <tr>\n",
       "      <th>2</th>\n",
       "      <td>Shoppers Drug Mart</td>\n",
       "      <td>Open</td>\n",
       "      <td>2.5</td>\n",
       "      <td>https://www.google.com/maps/place/?q=place_id:...</td>\n",
       "    </tr>\n",
       "    <tr>\n",
       "      <th>3</th>\n",
       "      <td>Pharmasave Cyril Pharmacy</td>\n",
       "      <td>Open</td>\n",
       "      <td>5.0</td>\n",
       "      <td>https://www.google.com/maps/place/?q=place_id:...</td>\n",
       "    </tr>\n",
       "    <tr>\n",
       "      <th>4</th>\n",
       "      <td>Shas Pharmacy</td>\n",
       "      <td>Open</td>\n",
       "      <td>4.3</td>\n",
       "      <td>https://www.google.com/maps/place/?q=place_id:...</td>\n",
       "    </tr>\n",
       "    <tr>\n",
       "      <th>5</th>\n",
       "      <td>Rexall Drugstore</td>\n",
       "      <td>Open</td>\n",
       "      <td>2.5</td>\n",
       "      <td>https://www.google.com/maps/place/?q=place_id:...</td>\n",
       "    </tr>\n",
       "    <tr>\n",
       "      <th>6</th>\n",
       "      <td>Loblaw pharmacy</td>\n",
       "      <td>Open</td>\n",
       "      <td>3.0</td>\n",
       "      <td>https://www.google.com/maps/place/?q=place_id:...</td>\n",
       "    </tr>\n",
       "    <tr>\n",
       "      <th>7</th>\n",
       "      <td>The Medicine Shoppe Pharmacy</td>\n",
       "      <td>Open</td>\n",
       "      <td>4.5</td>\n",
       "      <td>https://www.google.com/maps/place/?q=place_id:...</td>\n",
       "    </tr>\n",
       "    <tr>\n",
       "      <th>8</th>\n",
       "      <td>I.D.A. - Rideau Pharmacy</td>\n",
       "      <td>Open</td>\n",
       "      <td>4.0</td>\n",
       "      <td>https://www.google.com/maps/place/?q=place_id:...</td>\n",
       "    </tr>\n",
       "    <tr>\n",
       "      <th>9</th>\n",
       "      <td>Greenboro Pharmacy</td>\n",
       "      <td>Open</td>\n",
       "      <td>4.6</td>\n",
       "      <td>https://www.google.com/maps/place/?q=place_id:...</td>\n",
       "    </tr>\n",
       "    <tr>\n",
       "      <th>10</th>\n",
       "      <td>Carling I.D.A. Pharmacy</td>\n",
       "      <td>Open</td>\n",
       "      <td>4.2</td>\n",
       "      <td>https://www.google.com/maps/place/?q=place_id:...</td>\n",
       "    </tr>\n",
       "    <tr>\n",
       "      <th>11</th>\n",
       "      <td>Speciatly Rx pharmacy</td>\n",
       "      <td>NaN</td>\n",
       "      <td>0.0</td>\n",
       "      <td>https://www.google.com/maps/place/?q=place_id:...</td>\n",
       "    </tr>\n",
       "    <tr>\n",
       "      <th>12</th>\n",
       "      <td>Pharmacie Brisson</td>\n",
       "      <td>Closed</td>\n",
       "      <td>4.7</td>\n",
       "      <td>https://www.google.com/maps/place/?q=place_id:...</td>\n",
       "    </tr>\n",
       "    <tr>\n",
       "      <th>13</th>\n",
       "      <td>Rexall Drugstore</td>\n",
       "      <td>Open</td>\n",
       "      <td>2.6</td>\n",
       "      <td>https://www.google.com/maps/place/?q=place_id:...</td>\n",
       "    </tr>\n",
       "    <tr>\n",
       "      <th>14</th>\n",
       "      <td>Walkley Pharmacy Remedy's RX</td>\n",
       "      <td>Open</td>\n",
       "      <td>4.1</td>\n",
       "      <td>https://www.google.com/maps/place/?q=place_id:...</td>\n",
       "    </tr>\n",
       "    <tr>\n",
       "      <th>15</th>\n",
       "      <td>Vanier Pharmacy</td>\n",
       "      <td>Open</td>\n",
       "      <td>4.9</td>\n",
       "      <td>https://www.google.com/maps/place/?q=place_id:...</td>\n",
       "    </tr>\n",
       "    <tr>\n",
       "      <th>16</th>\n",
       "      <td>Rexall Drugstore</td>\n",
       "      <td>Open</td>\n",
       "      <td>2.8</td>\n",
       "      <td>https://www.google.com/maps/place/?q=place_id:...</td>\n",
       "    </tr>\n",
       "    <tr>\n",
       "      <th>17</th>\n",
       "      <td>Pharmasave Bank Street Pharmacy</td>\n",
       "      <td>Open</td>\n",
       "      <td>4.9</td>\n",
       "      <td>https://www.google.com/maps/place/?q=place_id:...</td>\n",
       "    </tr>\n",
       "    <tr>\n",
       "      <th>18</th>\n",
       "      <td>Loblaw pharmacy</td>\n",
       "      <td>Open</td>\n",
       "      <td>3.5</td>\n",
       "      <td>https://www.google.com/maps/place/?q=place_id:...</td>\n",
       "    </tr>\n",
       "    <tr>\n",
       "      <th>19</th>\n",
       "      <td>Rexall Drugstore</td>\n",
       "      <td>Closed</td>\n",
       "      <td>4.0</td>\n",
       "      <td>https://www.google.com/maps/place/?q=place_id:...</td>\n",
       "    </tr>\n",
       "  </tbody>\n",
       "</table>\n",
       "</div>"
      ],
      "text/plain": [
       "                                Name open_now  Rating  \\\n",
       "0             I.D.A. - Bell Pharmacy     Open     4.6   \n",
       "1   Remedy'sRx - Trainyards Pharmacy   Closed     3.7   \n",
       "2                 Shoppers Drug Mart     Open     2.5   \n",
       "3          Pharmasave Cyril Pharmacy     Open     5.0   \n",
       "4                      Shas Pharmacy     Open     4.3   \n",
       "5                   Rexall Drugstore     Open     2.5   \n",
       "6                    Loblaw pharmacy     Open     3.0   \n",
       "7       The Medicine Shoppe Pharmacy     Open     4.5   \n",
       "8           I.D.A. - Rideau Pharmacy     Open     4.0   \n",
       "9                 Greenboro Pharmacy     Open     4.6   \n",
       "10           Carling I.D.A. Pharmacy     Open     4.2   \n",
       "11             Speciatly Rx pharmacy      NaN     0.0   \n",
       "12                 Pharmacie Brisson   Closed     4.7   \n",
       "13                  Rexall Drugstore     Open     2.6   \n",
       "14      Walkley Pharmacy Remedy's RX     Open     4.1   \n",
       "15                   Vanier Pharmacy     Open     4.9   \n",
       "16                  Rexall Drugstore     Open     2.8   \n",
       "17   Pharmasave Bank Street Pharmacy     Open     4.9   \n",
       "18                   Loblaw pharmacy     Open     3.5   \n",
       "19                  Rexall Drugstore   Closed     4.0   \n",
       "\n",
       "                                                  url  \n",
       "0   https://www.google.com/maps/place/?q=place_id:...  \n",
       "1   https://www.google.com/maps/place/?q=place_id:...  \n",
       "2   https://www.google.com/maps/place/?q=place_id:...  \n",
       "3   https://www.google.com/maps/place/?q=place_id:...  \n",
       "4   https://www.google.com/maps/place/?q=place_id:...  \n",
       "5   https://www.google.com/maps/place/?q=place_id:...  \n",
       "6   https://www.google.com/maps/place/?q=place_id:...  \n",
       "7   https://www.google.com/maps/place/?q=place_id:...  \n",
       "8   https://www.google.com/maps/place/?q=place_id:...  \n",
       "9   https://www.google.com/maps/place/?q=place_id:...  \n",
       "10  https://www.google.com/maps/place/?q=place_id:...  \n",
       "11  https://www.google.com/maps/place/?q=place_id:...  \n",
       "12  https://www.google.com/maps/place/?q=place_id:...  \n",
       "13  https://www.google.com/maps/place/?q=place_id:...  \n",
       "14  https://www.google.com/maps/place/?q=place_id:...  \n",
       "15  https://www.google.com/maps/place/?q=place_id:...  \n",
       "16  https://www.google.com/maps/place/?q=place_id:...  \n",
       "17  https://www.google.com/maps/place/?q=place_id:...  \n",
       "18  https://www.google.com/maps/place/?q=place_id:...  \n",
       "19  https://www.google.com/maps/place/?q=place_id:...  "
      ]
     },
     "execution_count": 62,
     "metadata": {},
     "output_type": "execute_result"
    }
   ],
   "source": [
    "temp.rename(columns={'name':'Name','rating':'Rating'})"
   ]
  },
  {
   "cell_type": "markdown",
   "metadata": {},
   "source": [
    "# Appointment"
   ]
  },
  {
   "cell_type": "code",
   "execution_count": 80,
   "metadata": {},
   "outputs": [],
   "source": [
    "details = {'name': ' Nihal',\n",
    " 'email': 'nihal.antony@gmail.com',\n",
    " 'doctor': 'Steven Philip',\n",
    " 'date': '2022-03-25T12:00:00-04:00',\n",
    " 'time': '16:30:00',\n",
    " 'appointment': '$AppointmentType'}"
   ]
  },
  {
   "cell_type": "code",
   "execution_count": 81,
   "metadata": {},
   "outputs": [],
   "source": [
    "import pandas as pd\n",
    "doc_info = pd.read_excel('Doctor_database.xlsx')"
   ]
  },
  {
   "cell_type": "code",
   "execution_count": 82,
   "metadata": {},
   "outputs": [
    {
     "data": {
      "text/plain": [
       "Index(['Name', 'Specialization', 'Branch', 'Weekly Schedule', 'Timing'], dtype='object')"
      ]
     },
     "execution_count": 82,
     "metadata": {},
     "output_type": "execute_result"
    }
   ],
   "source": [
    "doc_info.columns"
   ]
  },
  {
   "cell_type": "code",
   "execution_count": 83,
   "metadata": {},
   "outputs": [],
   "source": [
    "branch = doc_info[(doc_info['Name'] == details['doctor']) & (doc_info['Specialization']=='Radiologist')]['Branch'].item()"
   ]
  },
  {
   "cell_type": "code",
   "execution_count": 84,
   "metadata": {},
   "outputs": [
    {
     "data": {
      "text/plain": [
       "'The Ottawa Hospital General Campus'"
      ]
     },
     "execution_count": 84,
     "metadata": {},
     "output_type": "execute_result"
    }
   ],
   "source": [
    "branch"
   ]
  },
  {
   "cell_type": "code",
   "execution_count": 102,
   "metadata": {},
   "outputs": [
    {
     "data": {
      "text/html": [
       "<div>\n",
       "<style scoped>\n",
       "    .dataframe tbody tr th:only-of-type {\n",
       "        vertical-align: middle;\n",
       "    }\n",
       "\n",
       "    .dataframe tbody tr th {\n",
       "        vertical-align: top;\n",
       "    }\n",
       "\n",
       "    .dataframe thead th {\n",
       "        text-align: right;\n",
       "    }\n",
       "</style>\n",
       "<table border=\"1\" class=\"dataframe\">\n",
       "  <thead>\n",
       "    <tr style=\"text-align: right;\">\n",
       "      <th></th>\n",
       "      <th>Patient Name</th>\n",
       "      <th>Doctor Name</th>\n",
       "      <th>Specialist Type</th>\n",
       "      <th>Branch</th>\n",
       "      <th>Date</th>\n",
       "      <th>Time</th>\n",
       "    </tr>\n",
       "  </thead>\n",
       "  <tbody>\n",
       "    <tr>\n",
       "      <th>0</th>\n",
       "      <td>Nihal</td>\n",
       "      <td>Steven Philip</td>\n",
       "      <td>$AppointmentType</td>\n",
       "      <td>The Ottawa Hospital General Campus</td>\n",
       "      <td>25 March 2022</td>\n",
       "      <td>16:30:00</td>\n",
       "    </tr>\n",
       "  </tbody>\n",
       "</table>\n",
       "</div>"
      ],
      "text/plain": [
       "  Patient Name    Doctor Name   Specialist Type  \\\n",
       "0        Nihal  Steven Philip  $AppointmentType   \n",
       "\n",
       "                               Branch           Date      Time  \n",
       "0  The Ottawa Hospital General Campus  25 March 2022  16:30:00  "
      ]
     },
     "execution_count": 102,
     "metadata": {},
     "output_type": "execute_result"
    }
   ],
   "source": [
    "appointment = pd.read_excel('Appointment_database.xlsx')\n",
    "appointment.head()"
   ]
  },
  {
   "cell_type": "code",
   "execution_count": 100,
   "metadata": {},
   "outputs": [
    {
     "name": "stderr",
     "output_type": "stream",
     "text": [
      "/var/folders/m3/8j4st9_16ql0_0fhf8c0xnfm0000gn/T/ipykernel_41094/3668633748.py:8: FutureWarning: The frame.append method is deprecated and will be removed from pandas in a future version. Use pandas.concat instead.\n",
      "  appointment = appointment.append(app,ignore_index=True)\n"
     ]
    }
   ],
   "source": [
    "from display_data import get_date\n",
    "app = {'Patient Name': details['name'],\n",
    "        'Doctor Name': details['doctor'],\n",
    "        'Specialist Type': details['appointment'],\n",
    "        'Branch': branch,\n",
    "        'Date':get_date(details['date']),\n",
    "        'Time':details['time']}\n",
    "appointment = appointment.append(app,ignore_index=True)"
   ]
  },
  {
   "cell_type": "code",
   "execution_count": 101,
   "metadata": {},
   "outputs": [
    {
     "data": {
      "text/html": [
       "<div>\n",
       "<style scoped>\n",
       "    .dataframe tbody tr th:only-of-type {\n",
       "        vertical-align: middle;\n",
       "    }\n",
       "\n",
       "    .dataframe tbody tr th {\n",
       "        vertical-align: top;\n",
       "    }\n",
       "\n",
       "    .dataframe thead th {\n",
       "        text-align: right;\n",
       "    }\n",
       "</style>\n",
       "<table border=\"1\" class=\"dataframe\">\n",
       "  <thead>\n",
       "    <tr style=\"text-align: right;\">\n",
       "      <th></th>\n",
       "      <th>Patient Name</th>\n",
       "      <th>Doctor Name</th>\n",
       "      <th>Specialist Type</th>\n",
       "      <th>Branch</th>\n",
       "      <th>Date</th>\n",
       "      <th>Time</th>\n",
       "    </tr>\n",
       "  </thead>\n",
       "  <tbody>\n",
       "    <tr>\n",
       "      <th>0</th>\n",
       "      <td>Nihal</td>\n",
       "      <td>Steven Philip</td>\n",
       "      <td>$AppointmentType</td>\n",
       "      <td>The Ottawa Hospital General Campus</td>\n",
       "      <td>25 March 2022</td>\n",
       "      <td>16:30:00</td>\n",
       "    </tr>\n",
       "    <tr>\n",
       "      <th>1</th>\n",
       "      <td>Nihal</td>\n",
       "      <td>Steven Philip</td>\n",
       "      <td>$AppointmentType</td>\n",
       "      <td>The Ottawa Hospital General Campus</td>\n",
       "      <td>25 March 2022</td>\n",
       "      <td>16:30:00</td>\n",
       "    </tr>\n",
       "  </tbody>\n",
       "</table>\n",
       "</div>"
      ],
      "text/plain": [
       "  Patient Name    Doctor Name   Specialist Type  \\\n",
       "0        Nihal  Steven Philip  $AppointmentType   \n",
       "1        Nihal  Steven Philip  $AppointmentType   \n",
       "\n",
       "                               Branch           Date      Time  \n",
       "0  The Ottawa Hospital General Campus  25 March 2022  16:30:00  \n",
       "1  The Ottawa Hospital General Campus  25 March 2022  16:30:00  "
      ]
     },
     "execution_count": 101,
     "metadata": {},
     "output_type": "execute_result"
    }
   ],
   "source": [
    "appointment"
   ]
  },
  {
   "cell_type": "code",
   "execution_count": 98,
   "metadata": {},
   "outputs": [],
   "source": [
    "appointment.to_excel('Appointment_database.xlsx',index=False)"
   ]
  },
  {
   "cell_type": "markdown",
   "metadata": {},
   "source": [
    "## Deleting an Appointment"
   ]
  },
  {
   "cell_type": "code",
   "execution_count": 2,
   "metadata": {},
   "outputs": [
    {
     "data": {
      "text/html": [
       "<div>\n",
       "<style scoped>\n",
       "    .dataframe tbody tr th:only-of-type {\n",
       "        vertical-align: middle;\n",
       "    }\n",
       "\n",
       "    .dataframe tbody tr th {\n",
       "        vertical-align: top;\n",
       "    }\n",
       "\n",
       "    .dataframe thead th {\n",
       "        text-align: right;\n",
       "    }\n",
       "</style>\n",
       "<table border=\"1\" class=\"dataframe\">\n",
       "  <thead>\n",
       "    <tr style=\"text-align: right;\">\n",
       "      <th></th>\n",
       "      <th>Patient Name</th>\n",
       "      <th>Doctor Name</th>\n",
       "      <th>Specialist Type</th>\n",
       "      <th>Branch</th>\n",
       "      <th>Date</th>\n",
       "      <th>Time</th>\n",
       "    </tr>\n",
       "  </thead>\n",
       "  <tbody>\n",
       "    <tr>\n",
       "      <th>0</th>\n",
       "      <td>Nihal</td>\n",
       "      <td>Steven Philip</td>\n",
       "      <td>$AppointmentType</td>\n",
       "      <td>The Ottawa Hospital General Campus</td>\n",
       "      <td>25 March 2022</td>\n",
       "      <td>16:30:00</td>\n",
       "    </tr>\n",
       "    <tr>\n",
       "      <th>1</th>\n",
       "      <td>Paul</td>\n",
       "      <td>Steven Philip</td>\n",
       "      <td>$AppointmentType</td>\n",
       "      <td>The Ottawa Hospital General Campus</td>\n",
       "      <td>25 March 2022</td>\n",
       "      <td>16:30:00</td>\n",
       "    </tr>\n",
       "    <tr>\n",
       "      <th>2</th>\n",
       "      <td>Desmond</td>\n",
       "      <td>Steven Philip</td>\n",
       "      <td>$AppointmentType</td>\n",
       "      <td>The Ottawa Hospital General Campus</td>\n",
       "      <td>25 March 2022</td>\n",
       "      <td>16:30:00</td>\n",
       "    </tr>\n",
       "  </tbody>\n",
       "</table>\n",
       "</div>"
      ],
      "text/plain": [
       "  Patient Name    Doctor Name   Specialist Type  \\\n",
       "0        Nihal  Steven Philip  $AppointmentType   \n",
       "1         Paul  Steven Philip  $AppointmentType   \n",
       "2      Desmond  Steven Philip  $AppointmentType   \n",
       "\n",
       "                               Branch           Date      Time  \n",
       "0  The Ottawa Hospital General Campus  25 March 2022  16:30:00  \n",
       "1  The Ottawa Hospital General Campus  25 March 2022  16:30:00  \n",
       "2  The Ottawa Hospital General Campus  25 March 2022  16:30:00  "
      ]
     },
     "execution_count": 2,
     "metadata": {},
     "output_type": "execute_result"
    }
   ],
   "source": [
    "import pandas as pd\n",
    "appointment = pd.read_excel('Appointment_database.xlsx')\n",
    "appointment.head()"
   ]
  },
  {
   "cell_type": "code",
   "execution_count": 4,
   "metadata": {},
   "outputs": [],
   "source": [
    "appointment.drop(index=0,inplace=True)"
   ]
  },
  {
   "cell_type": "code",
   "execution_count": 5,
   "metadata": {},
   "outputs": [],
   "source": [
    "appointment.to_excel('Appointment_database.xlsx',index=False)"
   ]
  },
  {
   "cell_type": "code",
   "execution_count": 6,
   "metadata": {},
   "outputs": [
    {
     "data": {
      "text/plain": [
       "2"
      ]
     },
     "execution_count": 6,
     "metadata": {},
     "output_type": "execute_result"
    }
   ],
   "source": [
    "len(appointment)"
   ]
  },
  {
   "cell_type": "code",
   "execution_count": null,
   "metadata": {},
   "outputs": [],
   "source": []
  }
 ],
 "metadata": {
  "interpreter": {
   "hash": "8299bf76fd9b44ecb9c85abf787c2b08d12876bc058fb67ec5a2f6016b3ba2a0"
  },
  "kernelspec": {
   "display_name": "Python 3.8.12 ('apple_tensorflow')",
   "language": "python",
   "name": "python3"
  },
  "language_info": {
   "codemirror_mode": {
    "name": "ipython",
    "version": 3
   },
   "file_extension": ".py",
   "mimetype": "text/x-python",
   "name": "python",
   "nbconvert_exporter": "python",
   "pygments_lexer": "ipython3",
   "version": "3.10.2"
  },
  "orig_nbformat": 4
 },
 "nbformat": 4,
 "nbformat_minor": 2
}
